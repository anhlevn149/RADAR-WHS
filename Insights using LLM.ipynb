{
 "cells": [
  {
   "cell_type": "code",
   "execution_count": 21,
   "metadata": {},
   "outputs": [
    {
     "name": "stdout",
     "output_type": "stream",
     "text": [
      "Requirement already satisfied: langchain in c:\\users\\hp\\appdata\\local\\packages\\pythonsoftwarefoundation.python.3.10_qbz5n2kfra8p0\\localcache\\local-packages\\python310\\site-packages (0.1.11)\n",
      "Requirement already satisfied: PyYAML>=5.3 in c:\\users\\hp\\appdata\\local\\packages\\pythonsoftwarefoundation.python.3.10_qbz5n2kfra8p0\\localcache\\local-packages\\python310\\site-packages (from langchain) (6.0.1)\n",
      "Requirement already satisfied: SQLAlchemy<3,>=1.4 in c:\\users\\hp\\appdata\\local\\packages\\pythonsoftwarefoundation.python.3.10_qbz5n2kfra8p0\\localcache\\local-packages\\python310\\site-packages (from langchain) (2.0.28)\n",
      "Requirement already satisfied: aiohttp<4.0.0,>=3.8.3 in c:\\users\\hp\\appdata\\local\\packages\\pythonsoftwarefoundation.python.3.10_qbz5n2kfra8p0\\localcache\\local-packages\\python310\\site-packages (from langchain) (3.9.3)\n",
      "Requirement already satisfied: async-timeout<5.0.0,>=4.0.0 in c:\\users\\hp\\appdata\\local\\packages\\pythonsoftwarefoundation.python.3.10_qbz5n2kfra8p0\\localcache\\local-packages\\python310\\site-packages (from langchain) (4.0.3)\n",
      "Requirement already satisfied: dataclasses-json<0.7,>=0.5.7 in c:\\users\\hp\\appdata\\local\\packages\\pythonsoftwarefoundation.python.3.10_qbz5n2kfra8p0\\localcache\\local-packages\\python310\\site-packages (from langchain) (0.6.4)\n",
      "Requirement already satisfied: jsonpatch<2.0,>=1.33 in c:\\users\\hp\\appdata\\local\\packages\\pythonsoftwarefoundation.python.3.10_qbz5n2kfra8p0\\localcache\\local-packages\\python310\\site-packages (from langchain) (1.33)\n",
      "Requirement already satisfied: langchain-community<0.1,>=0.0.25 in c:\\users\\hp\\appdata\\local\\packages\\pythonsoftwarefoundation.python.3.10_qbz5n2kfra8p0\\localcache\\local-packages\\python310\\site-packages (from langchain) (0.0.27)\n",
      "Requirement already satisfied: langchain-core<0.2,>=0.1.29 in c:\\users\\hp\\appdata\\local\\packages\\pythonsoftwarefoundation.python.3.10_qbz5n2kfra8p0\\localcache\\local-packages\\python310\\site-packages (from langchain) (0.1.30)\n",
      "Requirement already satisfied: langchain-text-splitters<0.1,>=0.0.1 in c:\\users\\hp\\appdata\\local\\packages\\pythonsoftwarefoundation.python.3.10_qbz5n2kfra8p0\\localcache\\local-packages\\python310\\site-packages (from langchain) (0.0.1)\n",
      "Requirement already satisfied: langsmith<0.2.0,>=0.1.17 in c:\\users\\hp\\appdata\\local\\packages\\pythonsoftwarefoundation.python.3.10_qbz5n2kfra8p0\\localcache\\local-packages\\python310\\site-packages (from langchain) (0.1.23)\n",
      "Requirement already satisfied: numpy<2,>=1 in c:\\users\\hp\\appdata\\local\\packages\\pythonsoftwarefoundation.python.3.10_qbz5n2kfra8p0\\localcache\\local-packages\\python310\\site-packages (from langchain) (1.26.4)\n",
      "Requirement already satisfied: pydantic<3,>=1 in c:\\users\\hp\\appdata\\local\\packages\\pythonsoftwarefoundation.python.3.10_qbz5n2kfra8p0\\localcache\\local-packages\\python310\\site-packages (from langchain) (2.6.3)\n",
      "Requirement already satisfied: requests<3,>=2 in c:\\users\\hp\\appdata\\local\\packages\\pythonsoftwarefoundation.python.3.10_qbz5n2kfra8p0\\localcache\\local-packages\\python310\\site-packages (from langchain) (2.28.1)\n",
      "Requirement already satisfied: tenacity<9.0.0,>=8.1.0 in c:\\users\\hp\\appdata\\local\\packages\\pythonsoftwarefoundation.python.3.10_qbz5n2kfra8p0\\localcache\\local-packages\\python310\\site-packages (from langchain) (8.2.3)\n",
      "Requirement already satisfied: aiosignal>=1.1.2 in c:\\users\\hp\\appdata\\local\\packages\\pythonsoftwarefoundation.python.3.10_qbz5n2kfra8p0\\localcache\\local-packages\\python310\\site-packages (from aiohttp<4.0.0,>=3.8.3->langchain) (1.3.1)\n",
      "Requirement already satisfied: attrs>=17.3.0 in c:\\users\\hp\\appdata\\local\\packages\\pythonsoftwarefoundation.python.3.10_qbz5n2kfra8p0\\localcache\\local-packages\\python310\\site-packages (from aiohttp<4.0.0,>=3.8.3->langchain) (23.1.0)\n",
      "Requirement already satisfied: frozenlist>=1.1.1 in c:\\users\\hp\\appdata\\local\\packages\\pythonsoftwarefoundation.python.3.10_qbz5n2kfra8p0\\localcache\\local-packages\\python310\\site-packages (from aiohttp<4.0.0,>=3.8.3->langchain) (1.4.1)\n",
      "Requirement already satisfied: multidict<7.0,>=4.5 in c:\\users\\hp\\appdata\\local\\packages\\pythonsoftwarefoundation.python.3.10_qbz5n2kfra8p0\\localcache\\local-packages\\python310\\site-packages (from aiohttp<4.0.0,>=3.8.3->langchain) (6.0.5)\n",
      "Requirement already satisfied: yarl<2.0,>=1.0 in c:\\users\\hp\\appdata\\local\\packages\\pythonsoftwarefoundation.python.3.10_qbz5n2kfra8p0\\localcache\\local-packages\\python310\\site-packages (from aiohttp<4.0.0,>=3.8.3->langchain) (1.9.4)\n",
      "Requirement already satisfied: marshmallow<4.0.0,>=3.18.0 in c:\\users\\hp\\appdata\\local\\packages\\pythonsoftwarefoundation.python.3.10_qbz5n2kfra8p0\\localcache\\local-packages\\python310\\site-packages (from dataclasses-json<0.7,>=0.5.7->langchain) (3.21.1)\n",
      "Requirement already satisfied: typing-inspect<1,>=0.4.0 in c:\\users\\hp\\appdata\\local\\packages\\pythonsoftwarefoundation.python.3.10_qbz5n2kfra8p0\\localcache\\local-packages\\python310\\site-packages (from dataclasses-json<0.7,>=0.5.7->langchain) (0.9.0)\n",
      "Requirement already satisfied: jsonpointer>=1.9 in c:\\users\\hp\\appdata\\local\\packages\\pythonsoftwarefoundation.python.3.10_qbz5n2kfra8p0\\localcache\\local-packages\\python310\\site-packages (from jsonpatch<2.0,>=1.33->langchain) (2.4)\n",
      "Requirement already satisfied: anyio<5,>=3 in c:\\users\\hp\\appdata\\local\\packages\\pythonsoftwarefoundation.python.3.10_qbz5n2kfra8p0\\localcache\\local-packages\\python310\\site-packages (from langchain-core<0.2,>=0.1.29->langchain) (4.3.0)\n",
      "Requirement already satisfied: packaging<24.0,>=23.2 in c:\\users\\hp\\appdata\\local\\packages\\pythonsoftwarefoundation.python.3.10_qbz5n2kfra8p0\\localcache\\local-packages\\python310\\site-packages (from langchain-core<0.2,>=0.1.29->langchain) (23.2)\n",
      "Requirement already satisfied: orjson<4.0.0,>=3.9.14 in c:\\users\\hp\\appdata\\local\\packages\\pythonsoftwarefoundation.python.3.10_qbz5n2kfra8p0\\localcache\\local-packages\\python310\\site-packages (from langsmith<0.2.0,>=0.1.17->langchain) (3.9.15)\n",
      "Requirement already satisfied: annotated-types>=0.4.0 in c:\\users\\hp\\appdata\\local\\packages\\pythonsoftwarefoundation.python.3.10_qbz5n2kfra8p0\\localcache\\local-packages\\python310\\site-packages (from pydantic<3,>=1->langchain) (0.6.0)\n",
      "Requirement already satisfied: pydantic-core==2.16.3 in c:\\users\\hp\\appdata\\local\\packages\\pythonsoftwarefoundation.python.3.10_qbz5n2kfra8p0\\localcache\\local-packages\\python310\\site-packages (from pydantic<3,>=1->langchain) (2.16.3)\n",
      "Requirement already satisfied: typing-extensions>=4.6.1 in c:\\users\\hp\\appdata\\local\\packages\\pythonsoftwarefoundation.python.3.10_qbz5n2kfra8p0\\localcache\\local-packages\\python310\\site-packages (from pydantic<3,>=1->langchain) (4.10.0)\n",
      "Requirement already satisfied: charset-normalizer<3,>=2 in c:\\users\\hp\\appdata\\local\\packages\\pythonsoftwarefoundation.python.3.10_qbz5n2kfra8p0\\localcache\\local-packages\\python310\\site-packages (from requests<3,>=2->langchain) (2.1.1)\n",
      "Requirement already satisfied: idna<4,>=2.5 in c:\\users\\hp\\appdata\\local\\packages\\pythonsoftwarefoundation.python.3.10_qbz5n2kfra8p0\\localcache\\local-packages\\python310\\site-packages (from requests<3,>=2->langchain) (3.3)\n",
      "Requirement already satisfied: urllib3<1.27,>=1.21.1 in c:\\users\\hp\\appdata\\local\\packages\\pythonsoftwarefoundation.python.3.10_qbz5n2kfra8p0\\localcache\\local-packages\\python310\\site-packages (from requests<3,>=2->langchain) (1.26.12)\n",
      "Requirement already satisfied: certifi>=2017.4.17 in c:\\users\\hp\\appdata\\local\\packages\\pythonsoftwarefoundation.python.3.10_qbz5n2kfra8p0\\localcache\\local-packages\\python310\\site-packages (from requests<3,>=2->langchain) (2022.6.15)\n",
      "Requirement already satisfied: greenlet!=0.4.17 in c:\\users\\hp\\appdata\\local\\packages\\pythonsoftwarefoundation.python.3.10_qbz5n2kfra8p0\\localcache\\local-packages\\python310\\site-packages (from SQLAlchemy<3,>=1.4->langchain) (3.0.3)\n",
      "Requirement already satisfied: sniffio>=1.1 in c:\\users\\hp\\appdata\\local\\packages\\pythonsoftwarefoundation.python.3.10_qbz5n2kfra8p0\\localcache\\local-packages\\python310\\site-packages (from anyio<5,>=3->langchain-core<0.2,>=0.1.29->langchain) (1.3.1)\n",
      "Requirement already satisfied: exceptiongroup>=1.0.2 in c:\\users\\hp\\appdata\\local\\packages\\pythonsoftwarefoundation.python.3.10_qbz5n2kfra8p0\\localcache\\local-packages\\python310\\site-packages (from anyio<5,>=3->langchain-core<0.2,>=0.1.29->langchain) (1.2.0)\n",
      "Requirement already satisfied: mypy-extensions>=0.3.0 in c:\\users\\hp\\appdata\\local\\packages\\pythonsoftwarefoundation.python.3.10_qbz5n2kfra8p0\\localcache\\local-packages\\python310\\site-packages (from typing-inspect<1,>=0.4.0->dataclasses-json<0.7,>=0.5.7->langchain) (1.0.0)\n",
      "Note: you may need to restart the kernel to use updated packages.\n"
     ]
    },
    {
     "name": "stderr",
     "output_type": "stream",
     "text": [
      "\n",
      "[notice] A new release of pip is available: 23.2.1 -> 24.0\n",
      "[notice] To update, run: C:\\Users\\HP\\AppData\\Local\\Microsoft\\WindowsApps\\PythonSoftwareFoundation.Python.3.10_qbz5n2kfra8p0\\python.exe -m pip install --upgrade pip\n"
     ]
    }
   ],
   "source": [
    "pip install langchain"
   ]
  },
  {
   "cell_type": "code",
   "execution_count": 23,
   "metadata": {},
   "outputs": [
    {
     "data": {
      "text/plain": [
       "\"Title: The Power of Vulnerability\\n\\nInsight: Vulnerability is a strength, not a weakness. By embracing vulnerability, we can build deeper connections and foster empathy. Brené Brown's TED Talk highlights the importance of recognizing and accepting our emotions, and being willing to take risks in order to grow and learn. By practicing vulnerability, we can become more resilient and authentic in our interactions with others.\""
      ]
     },
     "execution_count": 23,
     "metadata": {},
     "output_type": "execute_result"
    }
   ],
   "source": [
    "from langchain.llms import Ollama\n",
    "ollama = Ollama(base_url='http://localhost:11434',\n",
    "model = \"llama2\")\n",
    "ollama(\"gererate insight in 100 words from text :\")"
   ]
  },
  {
   "cell_type": "code",
   "execution_count": null,
   "metadata": {},
   "outputs": [
    {
     "data": {
      "text/plain": [
       "\"Insight: EY's EHS services can help organizations reduce risks and improve performance by providing strategic and operational support in areas such as EHS strategy, compliance, risk management, and technology implementation. The team has a comprehensive approach to EHS, focusing on culture change, organizational behavior, and the integration of technology and advanced analytics to create value and unlock potential. Their services include EHS risk assessments, compliance, due diligence, and maturity assessments, as well as the implementation of technology solutions to improve data management and reporting. The EY EHS Maturity Model provides a framework for assessing the maturity of an EHS program and identifying areas for improvement.\""
      ]
     },
     "execution_count": 15,
     "metadata": {},
     "output_type": "execute_result"
    }
   ],
   "source": [
    "ollama(\"gererate insight in 100 words from text :  Assurance Climate change and sustainability Environment health and safety issues Financial accounting advisory services Sustainability The team Rebecca Dabbs EY Oceania Climate Change and Sustainability Services Leader and Sustainability Disclosure Hub CoLead Mathew Nelson EY Oceania Chief Sustainability Officer Roberto Garcia Partner Environment Health and Safety Ernst  Young What EY can do for you EY teams can help clients reduce the risks and consequence of adverse impacts on EHS and support clients as they make strategic and operational decisions that can help drive effective productivity outcomes and positive employee engagement Through deep knowledge and subjectmatter experience across the EHS spectrum EY professionals can support organizations with Strategy setting and development Organizational behavior and culture change Management system development EHS audits and reporting EHS risks and controls EHS compliance management EY teams are focused on guiding clients to help improve EHS performance The teams help prioritize the focus of the EHS program and how it links to the business This can help clients unlock the potential of EHS to create value rather than being perceived simply as a cost center EY EHS services include helping clients transform business processes to help reduce risk and lower costs This can result in an enhanced EHS strategy a more balanced and integrated risk focus and the integration of technology and advanced analytics that can ultimately lead to increased revenue EHS risk assessments and compliance Assisting with statutory compliance and internal EHS assessments including assessments against International Organization for Standardization ISO standards Performing or assisting with EHS risk assessments Codeveloping and assisting with largescale compliance assessments against EHS quality and other nonfinancial information management systems Performing a gap analysis to assess legislation or internal policy compliance Conducting EHS due diligence assessments Assisting with improvements to reinforce a culture of safety Assessing mental health risk management and advising on the development of mental health frameworks Advising on resource efficiency waste management and packaging and the circular economy Advising on asset decommissioning closure remediation restoration rehabilitation and postclosure strategy planning management and costing Assisting with environmental approvals and impact assessments Assisting with EHS maturity assessments Assessing psychosocial and mental health risks Assisting with EHS risk controls selection design and development EHS management systems and analysis Codeveloping and reviewing EHS management systems and assurance frameworks including systems in accordance with ISO standards Advising on EHS data management Advising on EHS compliance management systems Performing EHS data analytics Advising on EHS IT system effectiveness and transformation Performing EHS internal audits Analyzing management and board reporting EHS technology implementation EY teams can support the implementation of technology that can help improve the EHS function This includes developing a strategy to capture data costeffectively and then using that data to run the business and report on its performance more effectively We have strategic alliances with several technology providers including Enablon Microsoft IBM and SAP to develop EHS solutions and platforms EHS Maturity Model The EY EHS Maturity Model can help assess the maturity of an EHS risk management program and identify recommendations for program improvements across multiple dimensions eg strategy people leadership and governance assurance and reporting risk and opportunity systems and structures and technology The team Show more Previous Next Our latest thinking Show more Previous Next Contact us Like what you’ve seen Contact us to learn more mail\")"
   ]
  },
  {
   "cell_type": "code",
   "execution_count": null,
   "metadata": {},
   "outputs": [
    {
     "data": {
      "text/plain": [
       "'\\nInsight: The campaign \"Think Twice About Asbestos\" highlights the ongoing risk of asbestos-related diseases in Australia despite its ban in 2003. With an estimated 4,000 deaths annually, there is a need for vigilance and proactive removal of ageing asbestos-containing materials from the built environment. The public events held during National Asbestos Awareness Week aim to educate and raise awareness about asbestos management and its importance in preventing exposure to harmful fibres.'"
      ]
     },
     "execution_count": 16,
     "metadata": {},
     "output_type": "execute_result"
    }
   ],
   "source": [
    "ollama(\"generate insight in 100 words from text: National Asbestos Awareness Week 2023 marks 20 years since asbestos was completely banned in Australia and will be held from 20-26 November. The theme of this year's campaign is “Think Twice About Asbestos”. Public events include an interactive forum presented by SafeWork SA on the management of asbestos. The one-hour forum will be held on Monday 20 November at 1pm. Register here. Key focus areas of the forum will be: 2023 asbestos management campaign results Who has management or control of the workplace Asbestos registers Asbestos management plans Managing Demolition and Refurbishment work SafeWork SA's asbestos licence holder sanctions Asbestos management enforcement in 2024 A Q&A session will follow the presentation. Two memorial services will be held in Adelaide during the week. The Asbestos Disease Society of SA will host a Memorial Day event at Jack Watkins Reserve, Kilburn on Thursday 23 November at 1pm. The Asbestos Victims Association (SA) Inc will hold a service at Pitman Park, Salisbury, on Friday 24 November at 10.30am. National Asbestos Awareness Week is organised by the Australian Government’s Asbestos Safety and Eradication Agency, in partnership with state and territory government agencies and non-government organisations. The campaign pack provides a range of materials for organisations and individuals to use. Design files are also available for you to insert your own logo. An estimated 4,000 Australians die annually from asbestos-related diseases. Asbestos has been completely banned in Australia since December 2003. While two decades have passed since the ban, a significant amount of ageing asbestos-containing material remains in our built environment, which means there is an ongoing need for vigilance to prevent exposure to asbestos fibres and a need to focus on safe, proactive removal.\")"
   ]
  },
  {
   "cell_type": "code",
   "execution_count": 3,
   "metadata": {},
   "outputs": [
    {
     "name": "stderr",
     "output_type": "stream",
     "text": [
      "[nltk_data] Downloading package punkt to\n",
      "[nltk_data]     C:\\Users\\HP\\AppData\\Roaming\\nltk_data...\n",
      "[nltk_data]   Package punkt is already up-to-date!\n"
     ]
    },
    {
     "data": {
      "text/html": [
       "<div>\n",
       "<style scoped>\n",
       "    .dataframe tbody tr th:only-of-type {\n",
       "        vertical-align: middle;\n",
       "    }\n",
       "\n",
       "    .dataframe tbody tr th {\n",
       "        vertical-align: top;\n",
       "    }\n",
       "\n",
       "    .dataframe thead th {\n",
       "        text-align: right;\n",
       "    }\n",
       "</style>\n",
       "<table border=\"1\" class=\"dataframe\">\n",
       "  <thead>\n",
       "    <tr style=\"text-align: right;\">\n",
       "      <th></th>\n",
       "      <th>Headline</th>\n",
       "      <th>Content</th>\n",
       "      <th>Date</th>\n",
       "      <th>Reference URL</th>\n",
       "    </tr>\n",
       "  </thead>\n",
       "  <tbody>\n",
       "    <tr>\n",
       "      <th>0</th>\n",
       "      <td>Asbestos danger still strong 20 years on</td>\n",
       "      <td>National Asbestos Awareness Week 2023 marks 20...</td>\n",
       "      <td>2023-11-10 11:56:53+10:30</td>\n",
       "      <td>https://www.safework.sa.gov.au/news-and-alerts...</td>\n",
       "    </tr>\n",
       "  </tbody>\n",
       "</table>\n",
       "</div>"
      ],
      "text/plain": [
       "                                   Headline  \\\n",
       "0  Asbestos danger still strong 20 years on   \n",
       "\n",
       "                                             Content  \\\n",
       "0  National Asbestos Awareness Week 2023 marks 20...   \n",
       "\n",
       "                       Date                                      Reference URL  \n",
       "0 2023-11-10 11:56:53+10:30  https://www.safework.sa.gov.au/news-and-alerts...  "
      ]
     },
     "execution_count": 3,
     "metadata": {},
     "output_type": "execute_result"
    }
   ],
   "source": [
    "import newspaper\n",
    "import pandas as pd\n",
    "from newspaper import Article\n",
    "import nltk\n",
    "nltk.download('punkt')\n",
    " \n",
    "result = []\n",
    "link = \"https://www.safework.sa.gov.au/news-and-alerts/news/news/2023/asbestos-danger-still-strong-20-years-on?queries_tags_query=\"\n",
    "#The Basics of downloading the article to memory\n",
    "article = Article(f\"https://www.safework.sa.gov.au/news-and-alerts/news/news/2023/asbestos-danger-still-strong-20-years-on?queries_tags_query=\")\n",
    "article.download()\n",
    "article.parse()\n",
    "article.nlp()\n",
    " \n",
    "# To print out the full text\n",
    "content = article.text\n",
    " \n",
    "#Other functions to gather the other useful bits of meta data in an article\n",
    "headline = article.title # Gives the title\n",
    "date = article.publish_date #Gives the date the article was published\n",
    " \n",
    "result.append([headline, content, date, f\"{link}\"])\n",
    " \n",
    "result_df = pd.DataFrame(result, columns=['Headline', 'Content', 'Date', 'Reference URL'])\n",
    "result_df"
   ]
  },
  {
   "cell_type": "code",
   "execution_count": 4,
   "metadata": {},
   "outputs": [
    {
     "name": "stderr",
     "output_type": "stream",
     "text": [
      "C:\\Users\\HP\\AppData\\Local\\Packages\\PythonSoftwareFoundation.Python.3.10_qbz5n2kfra8p0\\LocalCache\\local-packages\\Python310\\site-packages\\langchain_core\\_api\\deprecation.py:117: LangChainDeprecationWarning: The function `__call__` was deprecated in LangChain 0.1.7 and will be removed in 0.2.0. Use invoke instead.\n",
      "  warn_deprecated(\n"
     ]
    },
    {
     "name": "stdout",
     "output_type": "stream",
     "text": [
      "                                   Headline  \\\n",
      "0  Asbestos danger still strong 20 years on   \n",
      "\n",
      "                                             Content  \\\n",
      "0  National Asbestos Awareness Week 2023 marks 20...   \n",
      "\n",
      "                       Date  \\\n",
      "0 2023-11-10 11:56:53+10:30   \n",
      "\n",
      "                                       Reference URL  \\\n",
      "0  https://www.safework.sa.gov.au/news-and-alerts...   \n",
      "\n",
      "                                             insight  \n",
      "0  Here are some key insights that can be gleaned...  \n"
     ]
    }
   ],
   "source": [
    "import pandas as pd\n",
    "from langchain.llms import Ollama\n",
    "\n",
    "# Initialize Ollama\n",
    "ollama = Ollama(base_url='http://localhost:11434', model='llama2')\n",
    "\n",
    "def generate_insights(df, text_column, insight_column):\n",
    "    # Iterate over each row in the dataframe\n",
    "    for index, row in df.iterrows():\n",
    "        # Get text from the specified column\n",
    "        text = row[text_column]\n",
    "        \n",
    "        # Generate insight from the text\n",
    "        insight = ollama(\"generate insight in 100 words from text: \" + text)\n",
    "        \n",
    "        # Save the insight into the new column\n",
    "        df.at[index, insight_column] = insight\n",
    "        \n",
    "    return df\n",
    "\n",
    "# Generate insights for the 'text_column' and save them into a new column named 'insight_column'\n",
    "data = generate_insights(result_df, 'Content', 'insight')\n",
    "\n",
    "# Print the updated DataFrame\n",
    "data\n",
    " "
   ]
  },
  {
   "cell_type": "code",
   "execution_count": 5,
   "metadata": {},
   "outputs": [],
   "source": [
    "data.to_csv('data.csv')"
   ]
  },
  {
   "cell_type": "code",
   "execution_count": null,
   "metadata": {},
   "outputs": [],
   "source": []
  }
 ],
 "metadata": {
  "kernelspec": {
   "display_name": "Python 3",
   "language": "python",
   "name": "python3"
  },
  "language_info": {
   "codemirror_mode": {
    "name": "ipython",
    "version": 3
   },
   "file_extension": ".py",
   "mimetype": "text/x-python",
   "name": "python",
   "nbconvert_exporter": "python",
   "pygments_lexer": "ipython3",
   "version": "3.10.11"
  }
 },
 "nbformat": 4,
 "nbformat_minor": 2
}
